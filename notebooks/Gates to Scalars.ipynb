{
 "cells": [
  {
   "cell_type": "code",
   "execution_count": 7,
   "metadata": {},
   "outputs": [],
   "source": [
    "import torch\n",
    "import numpy as np\n",
    "import json\n",
    "import sys\n",
    "import pickle\n",
    "from rnndissect.utils.nlp_utils import sentence_to_tensor\n",
    "import os"
   ]
  },
  {
   "cell_type": "code",
   "execution_count": 8,
   "metadata": {},
   "outputs": [],
   "source": [
    "model_path = \"/home/goncalo/Documents/RNNDissect/models/Bidirectional.pth\"\n",
    "json_path = \"/home/goncalo/.rnndissect/activations/acts_As_frustrating_as_this_episode_is,_because_all_of_these_people_should_know_better,_it's_perhaps_one_of_the_most_honest_in_a_long_time..json\"\n",
    "vocab_path = \"/home/goncalo/Documents/RNNDissect/assets/vocab.pickle\"\n",
    "sentence = \"As frustrating as this episode is, because all of these people should know better, it's perhaps one of the most honest in a long time.\"\n",
    "\n",
    "with open(json_path, \"r\") as jsonf:\n",
    "    acts= json.loads(jsonf.read())\n",
    "    \n",
    "with open(vocab_path, \"rb\") as vocabf:\n",
    "        vocab = pickle.load(vocabf)"
   ]
  },
  {
   "cell_type": "code",
   "execution_count": 11,
   "metadata": {},
   "outputs": [
    {
     "name": "stdout",
     "output_type": "stream",
     "text": [
      "29\n"
     ]
    }
   ],
   "source": [
    "tns = sentence_to_tensor(sentence, vocab)\n",
    "print(len(tns))"
   ]
  },
  {
   "cell_type": "code",
   "execution_count": 12,
   "metadata": {},
   "outputs": [
    {
     "data": {
      "text/plain": [
       "dict_keys(['h00', 'c00', 'h00_reverse', 'c00_reverse', 'i00', 'f00', 'g00', 'o00', 'c10', 'h10', 'i00_reverse', 'f00_reverse', 'g00_reverse', 'o00_reverse', 'c10_reverse', 'h10_reverse', 'i10', 'f10', 'g10', 'o10', 'c20', 'h20', 'i10_reverse', 'f10_reverse', 'g10_reverse', 'o10_reverse', 'c20_reverse', 'h20_reverse', 'i20', 'f20', 'g20', 'o20', 'c30', 'h30', 'i20_reverse', 'f20_reverse', 'g20_reverse', 'o20_reverse', 'c30_reverse', 'h30_reverse', 'i30', 'f30', 'g30', 'o30', 'c40', 'h40', 'i30_reverse', 'f30_reverse', 'g30_reverse', 'o30_reverse', 'c40_reverse', 'h40_reverse', 'i40', 'f40', 'g40', 'o40', 'c50', 'h50', 'i40_reverse', 'f40_reverse', 'g40_reverse', 'o40_reverse', 'c50_reverse', 'h50_reverse', 'i50', 'f50', 'g50', 'o50', 'c60', 'h60', 'i50_reverse', 'f50_reverse', 'g50_reverse', 'o50_reverse', 'c60_reverse', 'h60_reverse', 'i60', 'f60', 'g60', 'o60', 'c70', 'h70', 'i60_reverse', 'f60_reverse', 'g60_reverse', 'o60_reverse', 'c70_reverse', 'h70_reverse', 'i70', 'f70', 'g70', 'o70', 'c80', 'h80', 'i70_reverse', 'f70_reverse', 'g70_reverse', 'o70_reverse', 'c80_reverse', 'h80_reverse', 'i80', 'f80', 'g80', 'o80', 'c90', 'h90', 'i80_reverse', 'f80_reverse', 'g80_reverse', 'o80_reverse', 'c90_reverse', 'h90_reverse', 'i90', 'f90', 'g90', 'o90', 'c100', 'h100', 'i90_reverse', 'f90_reverse', 'g90_reverse', 'o90_reverse', 'c100_reverse', 'h100_reverse', 'i100', 'f100', 'g100', 'o100', 'c110', 'h110', 'i100_reverse', 'f100_reverse', 'g100_reverse', 'o100_reverse', 'c110_reverse', 'h110_reverse', 'i110', 'f110', 'g110', 'o110', 'c120', 'h120', 'i110_reverse', 'f110_reverse', 'g110_reverse', 'o110_reverse', 'c120_reverse', 'h120_reverse', 'i120', 'f120', 'g120', 'o120', 'c130', 'h130', 'i120_reverse', 'f120_reverse', 'g120_reverse', 'o120_reverse', 'c130_reverse', 'h130_reverse', 'i130', 'f130', 'g130', 'o130', 'c140', 'h140', 'i130_reverse', 'f130_reverse', 'g130_reverse', 'o130_reverse', 'c140_reverse', 'h140_reverse', 'i140', 'f140', 'g140', 'o140', 'c150', 'h150', 'i140_reverse', 'f140_reverse', 'g140_reverse', 'o140_reverse', 'c150_reverse', 'h150_reverse', 'i150', 'f150', 'g150', 'o150', 'c160', 'h160', 'i150_reverse', 'f150_reverse', 'g150_reverse', 'o150_reverse', 'c160_reverse', 'h160_reverse', 'i160', 'f160', 'g160', 'o160', 'c170', 'h170', 'i160_reverse', 'f160_reverse', 'g160_reverse', 'o160_reverse', 'c170_reverse', 'h170_reverse', 'i170', 'f170', 'g170', 'o170', 'c180', 'h180', 'i170_reverse', 'f170_reverse', 'g170_reverse', 'o170_reverse', 'c180_reverse', 'h180_reverse', 'i180', 'f180', 'g180', 'o180', 'c190', 'h190', 'i180_reverse', 'f180_reverse', 'g180_reverse', 'o180_reverse', 'c190_reverse', 'h190_reverse', 'i190', 'f190', 'g190', 'o190', 'c200', 'h200', 'i190_reverse', 'f190_reverse', 'g190_reverse', 'o190_reverse', 'c200_reverse', 'h200_reverse', 'i200', 'f200', 'g200', 'o200', 'c210', 'h210', 'i200_reverse', 'f200_reverse', 'g200_reverse', 'o200_reverse', 'c210_reverse', 'h210_reverse', 'i210', 'f210', 'g210', 'o210', 'c220', 'h220', 'i210_reverse', 'f210_reverse', 'g210_reverse', 'o210_reverse', 'c220_reverse', 'h220_reverse', 'i220', 'f220', 'g220', 'o220', 'c230', 'h230', 'i220_reverse', 'f220_reverse', 'g220_reverse', 'o220_reverse', 'c230_reverse', 'h230_reverse', 'i230', 'f230', 'g230', 'o230', 'c240', 'h240', 'i230_reverse', 'f230_reverse', 'g230_reverse', 'o230_reverse', 'c240_reverse', 'h240_reverse', 'i240', 'f240', 'g240', 'o240', 'c250', 'h250', 'i240_reverse', 'f240_reverse', 'g240_reverse', 'o240_reverse', 'c250_reverse', 'h250_reverse', 'i250', 'f250', 'g250', 'o250', 'c260', 'h260', 'i250_reverse', 'f250_reverse', 'g250_reverse', 'o250_reverse', 'c260_reverse', 'h260_reverse', 'i260', 'f260', 'g260', 'o260', 'c270', 'h270', 'i260_reverse', 'f260_reverse', 'g260_reverse', 'o260_reverse', 'c270_reverse', 'h270_reverse', 'i270', 'f270', 'g270', 'o270', 'c280', 'h280', 'i270_reverse', 'f270_reverse', 'g270_reverse', 'o270_reverse', 'c280_reverse', 'h280_reverse', 'i280', 'f280', 'g280', 'o280', 'c290', 'h290', 'i280_reverse', 'f280_reverse', 'g280_reverse', 'o280_reverse', 'c290_reverse', 'h290_reverse'])"
      ]
     },
     "execution_count": 12,
     "metadata": {},
     "output_type": "execute_result"
    }
   ],
   "source": [
    "acts.keys()"
   ]
  },
  {
   "cell_type": "code",
   "execution_count": null,
   "metadata": {},
   "outputs": [],
   "source": []
  }
 ],
 "metadata": {
  "kernelspec": {
   "display_name": "Python 3",
   "language": "python",
   "name": "python3"
  },
  "language_info": {
   "codemirror_mode": {
    "name": "ipython",
    "version": 3
   },
   "file_extension": ".py",
   "mimetype": "text/x-python",
   "name": "python",
   "nbconvert_exporter": "python",
   "pygments_lexer": "ipython3",
   "version": "3.7.0"
  }
 },
 "nbformat": 4,
 "nbformat_minor": 2
}
