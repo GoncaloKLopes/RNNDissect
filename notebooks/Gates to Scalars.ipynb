{
 "cells": [
  {
   "cell_type": "code",
   "execution_count": 1,
   "metadata": {},
   "outputs": [],
   "source": [
    "import torch\n",
    "import numpy as np\n",
    "import json\n",
    "import sys\n",
    "import rnndissect\n",
    "import os"
   ]
  },
  {
   "cell_type": "code",
   "execution_count": 11,
   "metadata": {},
   "outputs": [],
   "source": [
    "model_path = \"/home/goncalo/Documents/RNNDissect/models/Bidirectional.pth\"\n",
    "json_path = \"/home/goncalo/.rnndissect/activations/acts_As_frustrating_as_this_episode_is,_because_all_of_these_people_should_know_better,_it's_perhaps_one_of_the_most_honest_in_a_long_time..json\"\n",
    "vocab_path = \"/home/goncalo/Documents/RNNDissect/assets/vocab.pickle\"\n",
    "\n",
    "with open(json_path, \"r\") as jsonf:\n",
    "    acts= json.loads(jsonf.read())"
   ]
  }
 ],
 "metadata": {
  "kernelspec": {
   "display_name": "Python 3",
   "language": "python",
   "name": "python3"
  },
  "language_info": {
   "codemirror_mode": {
    "name": "ipython",
    "version": 3
   },
   "file_extension": ".py",
   "mimetype": "text/x-python",
   "name": "python",
   "nbconvert_exporter": "python",
   "pygments_lexer": "ipython3",
   "version": "3.7.0"
  }
 },
 "nbformat": 4,
 "nbformat_minor": 2
}
