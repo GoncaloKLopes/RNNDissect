{
 "cells": [
  {
   "cell_type": "code",
   "execution_count": 1,
   "metadata": {},
   "outputs": [],
   "source": [
    "import torch\n",
    "import numpy as np\n",
    "import json\n",
    "import sys\n",
    "import pickle\n",
    "from rnndissect.utils.nlp_utils import sentence_to_tensor\n",
    "import os"
   ]
  },
  {
   "cell_type": "code",
   "execution_count": 2,
   "metadata": {},
   "outputs": [],
   "source": [
    "model_path = \"/home/goncalo/Documents/RNNDissect/models/Bidirectional.pth\"\n",
    "json_path = \"/home/goncalo/.rnndissect/activations/acts_As_frustrating_as_this_episode_is,_because_all_of_these_people_should_know_better,_it's_perhaps_one_of_the_most_honest_in_a_long_time..json\"\n",
    "vocab_path = \"/home/goncalo/Documents/RNNDissect/assets/vocab.pickle\"\n",
    "sentence = \"As frustrating as this episode is, because all of these people should know better, it's perhaps one of the most honest in a long time.\"\n",
    "\n",
    "with open(json_path, \"r\") as jsonf:\n",
    "    acts= json.loads(jsonf.read())\n",
    "    \n",
    "with open(vocab_path, \"rb\") as vocabf:\n",
    "        vocab = pickle.load(vocabf)"
   ]
  },
  {
   "cell_type": "code",
   "execution_count": 64,
   "metadata": {},
   "outputs": [],
   "source": [
    "gates = [\"i\", \"f\", \"g\"]\n",
    "memory = \"c\"\n",
    "hidden = \"h\"\n",
    "\n",
    "i10 = acts[\"i10\"]\n",
    "g10 = acts[\"g10\"]\n",
    "h10 = acts[\"h10\"]\n",
    "acts.keys()\n",
    "\n",
    "T = int(((len(acts.keys()) - 8) / (2 * 6 * 2)))"
   ]
  },
  {
   "cell_type": "markdown",
   "metadata": {},
   "source": [
    "Create the vectors with the activations for each gate."
   ]
  },
  {
   "cell_type": "code",
   "execution_count": 166,
   "metadata": {},
   "outputs": [],
   "source": [
    "i_seq = np.empty((1, 256))\n",
    "f_seq = np.empty((1, 256))\n",
    "g_seq = np.empty((1, 256))\n",
    "o_seq = np.empty((1, 256))\n",
    "c_seq = np.empty((1, 256))\n",
    "h_seq = np.empty((1, 256))\n",
    "\n",
    "for l in range(2):\n",
    "    for t in range(T):\n",
    "        i_seq = np.vstack((i_seq, np.array(acts[f\"i{t}{l}\"]).squeeze()))\n",
    "        f_seq = np.vstack((f_seq, np.array(acts[f\"f{t}{l}\"]).squeeze()))\n",
    "        g_seq = np.vstack((g_seq, np.array(acts[f\"g{t}{l}\"]).squeeze()))\n",
    "        o_seq = np.vstack((o_seq, np.array(acts[f\"o{t}{l}\"]).squeeze()))\n",
    "        c_seq = np.vstack((c_seq, np.array(acts[f\"c{t}{l}\"]).squeeze()))\n",
    "        h_seq = np.vstack((h_seq, np.array(acts[f\"h{t}{l}\"]).squeeze()))        \n",
    "    \n",
    "    c_seq = np.vstack((c_seq, np.array(acts[f\"c{T}{l}\"]).squeeze()))\n",
    "    h_seq = np.vstack((h_seq, np.array(acts[f\"h{T}{l}\"]).squeeze())) \n",
    "    \n",
    "i_seq = i_seq[1:]\n",
    "f_seq = f_seq[1:]\n",
    "g_seq = g_seq[1:]\n",
    "o_seq = o_seq[1:]\n",
    "c_seq = c_seq[1:]\n",
    "h_seq = h_seq[1:]"
   ]
  },
  {
   "cell_type": "code",
   "execution_count": null,
   "metadata": {},
   "outputs": [],
   "source": []
  }
 ],
 "metadata": {
  "kernelspec": {
   "display_name": "Python 3",
   "language": "python",
   "name": "python3"
  },
  "language_info": {
   "codemirror_mode": {
    "name": "ipython",
    "version": 3
   },
   "file_extension": ".py",
   "mimetype": "text/x-python",
   "name": "python",
   "nbconvert_exporter": "python",
   "pygments_lexer": "ipython3",
   "version": "3.7.0"
  }
 },
 "nbformat": 4,
 "nbformat_minor": 2
}
