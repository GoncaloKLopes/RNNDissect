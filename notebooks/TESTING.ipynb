{
 "cells": [
  {
   "cell_type": "code",
   "execution_count": 1,
   "metadata": {},
   "outputs": [],
   "source": [
    "import rnndissect.utils.model_utils\n",
    "import rnndissect.utils.nlp_utils as nlpu\n",
    "import rnndissect.activations.extractor as extr\n",
    "import sys\n",
    "import torch\n",
    "import pickle\n",
    "\n",
    "sys.path.append(\"../model\")\n",
    "from bisarnn import BinarySARNN\n",
    "from configs import *\n",
    "\n",
    "with open(\"/home/goncalo/Documents/rnndissect/assets/imdb_vocab.pickle\", \"rb\") as vf:\n",
    "    vocab = pickle.load(vf)\n",
    "\n",
    "DEVICE = torch.device('cuda' if torch.cuda.is_available() else 'cpu')"
   ]
  },
  {
   "cell_type": "code",
   "execution_count": null,
   "metadata": {},
   "outputs": [],
   "source": [
    "sentence = \"The movie ends an era of the franchise by taking a second stab at adapting a classic comics arc, with deeply disappointing results.\""
   ]
  },
  {
   "cell_type": "code",
   "execution_count": null,
   "metadata": {},
   "outputs": [],
   "source": [
    "config = LSTM_CONFIG3\n",
    "config.output_dim = 2\n",
    "model = BinarySARNN(config)\n",
    "model.load_state_dict(torch.load(\"../model/lstm_2layers_bidir.pt\"))\n",
    "model.to(DEVICE)"
   ]
  },
  {
   "cell_type": "code",
   "execution_count": null,
   "metadata": {},
   "outputs": [],
   "source": [
    "output  = rnndissect.utils.model_utils.classify_sentence(model, sentence)\n",
    "output"
   ]
  },
  {
   "cell_type": "code",
   "execution_count": null,
   "metadata": {},
   "outputs": [],
   "source": [
    "ex = extr.Extractor(config, model)\n",
    "ex.activations_to_json(sentence)"
   ]
  },
  {
   "cell_type": "code",
   "execution_count": null,
   "metadata": {},
   "outputs": [],
   "source": [
    "h = acts[\"h251\"]\n",
    "h_rev = acts[\"h251_reverse\"]"
   ]
  },
  {
   "cell_type": "code",
   "execution_count": null,
   "metadata": {},
   "outputs": [],
   "source": [
    "catted = torch.cat((h, h_rev))"
   ]
  },
  {
   "cell_type": "code",
   "execution_count": null,
   "metadata": {},
   "outputs": [],
   "source": [
    "#torch.sigmoid(model.hidden_to_label(h.t()))\n",
    "torch.sigmoid(model.hidden_to_label(catted.t()))"
   ]
  },
  {
   "cell_type": "code",
   "execution_count": null,
   "metadata": {},
   "outputs": [],
   "source": [
    "ex.activations_to_json(sentence, vocab)"
   ]
  },
  {
   "cell_type": "code",
   "execution_count": null,
   "metadata": {},
   "outputs": [],
   "source": [
    "import os"
   ]
  },
  {
   "cell_type": "code",
   "execution_count": null,
   "metadata": {},
   "outputs": [],
   "source": []
  }
 ],
 "metadata": {
  "kernelspec": {
   "display_name": "Python 3",
   "language": "python",
   "name": "python3"
  },
  "language_info": {
   "codemirror_mode": {
    "name": "ipython",
    "version": 3
   },
   "file_extension": ".py",
   "mimetype": "text/x-python",
   "name": "python",
   "nbconvert_exporter": "python",
   "pygments_lexer": "ipython3",
   "version": "3.7.0"
  }
 },
 "nbformat": 4,
 "nbformat_minor": 2
}
